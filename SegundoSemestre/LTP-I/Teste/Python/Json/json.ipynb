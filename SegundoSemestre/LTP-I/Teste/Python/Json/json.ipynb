{
 "cells": [
  {
   "cell_type": "code",
   "execution_count": 7,
   "metadata": {},
   "outputs": [],
   "source": [
    "import json\n",
    "\n",
    "dados = {\n",
    "    \"nome\": \"Carlos\",\n",
    "    \"idade\": 30,\n",
    "    \"cidade\": \"Brasília\"\n",
    "}\n",
    "\n",
    "with open('saida.json', 'w') as file: #w -> write\n",
    "    json.dump(dados, file, indent=4, ensure_ascii=False)\n"
   ]
  },
  {
   "cell_type": "code",
   "execution_count": 9,
   "metadata": {},
   "outputs": [
    {
     "name": "stdout",
     "output_type": "stream",
     "text": [
      "{'nome': 'Carlos', 'idade': 30, 'cidade': 'Brasília'}\n"
     ]
    }
   ],
   "source": [
    "with open('saida.json', 'r') as file: #r -> read\n",
    "    dados = json.load(file)\n",
    "    print(dados)"
   ]
  },
  {
   "cell_type": "code",
   "execution_count": 10,
   "metadata": {},
   "outputs": [
    {
     "name": "stdout",
     "output_type": "stream",
     "text": [
      "nome: Carlos\n",
      "idade: 30\n",
      "cidade: Brasília\n"
     ]
    }
   ],
   "source": [
    "for key, value in dados.items():\n",
    "    print(f\"{key}: {value}\")"
   ]
  }
 ],
 "metadata": {
  "kernelspec": {
   "display_name": "Python 3",
   "language": "python",
   "name": "python3"
  },
  "language_info": {
   "codemirror_mode": {
    "name": "ipython",
    "version": 3
   },
   "file_extension": ".py",
   "mimetype": "text/x-python",
   "name": "python",
   "nbconvert_exporter": "python",
   "pygments_lexer": "ipython3",
   "version": "3.12.2"
  }
 },
 "nbformat": 4,
 "nbformat_minor": 2
}
