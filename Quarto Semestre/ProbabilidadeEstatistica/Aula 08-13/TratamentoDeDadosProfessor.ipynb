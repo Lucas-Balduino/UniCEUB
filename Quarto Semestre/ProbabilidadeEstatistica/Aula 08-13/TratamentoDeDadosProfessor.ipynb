{
 "cells": [
  {
   "cell_type": "code",
   "execution_count": null,
   "id": "95a08c64-9d68-4f8b-8a60-358d5f188129",
   "metadata": {},
   "outputs": [
    {
     "ename": "FileNotFoundError",
     "evalue": "[Errno 2] No such file or directory: 'dados_quarta.txt'",
     "output_type": "error",
     "traceback": [
      "\u001b[31m---------------------------------------------------------------------------\u001b[39m",
      "\u001b[31mFileNotFoundError\u001b[39m                         Traceback (most recent call last)",
      "\u001b[36mCell\u001b[39m\u001b[36m \u001b[39m\u001b[32mIn[3]\u001b[39m\u001b[32m, line 1\u001b[39m\n\u001b[32m----> \u001b[39m\u001b[32m1\u001b[39m \u001b[38;5;28;01mwith\u001b[39;00m \u001b[38;5;28;43mopen\u001b[39;49m\u001b[43m(\u001b[49m\u001b[33;43m'\u001b[39;49m\u001b[33;43mdados_quarta.txt\u001b[39;49m\u001b[33;43m'\u001b[39;49m\u001b[43m,\u001b[49m\u001b[43m \u001b[49m\u001b[33;43m'\u001b[39;49m\u001b[33;43mr\u001b[39;49m\u001b[33;43m'\u001b[39;49m\u001b[43m)\u001b[49m \u001b[38;5;28;01mas\u001b[39;00m arq:\n\u001b[32m      2\u001b[39m     texto = \u001b[33m'\u001b[39m\u001b[33m'\u001b[39m\n\u001b[32m      3\u001b[39m     \u001b[38;5;28;01mfor\u001b[39;00m linha \u001b[38;5;129;01min\u001b[39;00m arq.readlines():\n",
      "\u001b[36mFile \u001b[39m\u001b[32m~\\AppData\\Local\\Packages\\PythonSoftwareFoundation.Python.3.11_qbz5n2kfra8p0\\LocalCache\\local-packages\\Python311\\site-packages\\IPython\\core\\interactiveshell.py:343\u001b[39m, in \u001b[36m_modified_open\u001b[39m\u001b[34m(file, *args, **kwargs)\u001b[39m\n\u001b[32m    336\u001b[39m \u001b[38;5;28;01mif\u001b[39;00m file \u001b[38;5;129;01min\u001b[39;00m {\u001b[32m0\u001b[39m, \u001b[32m1\u001b[39m, \u001b[32m2\u001b[39m}:\n\u001b[32m    337\u001b[39m     \u001b[38;5;28;01mraise\u001b[39;00m \u001b[38;5;167;01mValueError\u001b[39;00m(\n\u001b[32m    338\u001b[39m         \u001b[33mf\u001b[39m\u001b[33m\"\u001b[39m\u001b[33mIPython won\u001b[39m\u001b[33m'\u001b[39m\u001b[33mt let you open fd=\u001b[39m\u001b[38;5;132;01m{\u001b[39;00mfile\u001b[38;5;132;01m}\u001b[39;00m\u001b[33m by default \u001b[39m\u001b[33m\"\u001b[39m\n\u001b[32m    339\u001b[39m         \u001b[33m\"\u001b[39m\u001b[33mas it is likely to crash IPython. If you know what you are doing, \u001b[39m\u001b[33m\"\u001b[39m\n\u001b[32m    340\u001b[39m         \u001b[33m\"\u001b[39m\u001b[33myou can use builtins\u001b[39m\u001b[33m'\u001b[39m\u001b[33m open.\u001b[39m\u001b[33m\"\u001b[39m\n\u001b[32m    341\u001b[39m     )\n\u001b[32m--> \u001b[39m\u001b[32m343\u001b[39m \u001b[38;5;28;01mreturn\u001b[39;00m \u001b[43mio_open\u001b[49m\u001b[43m(\u001b[49m\u001b[43mfile\u001b[49m\u001b[43m,\u001b[49m\u001b[43m \u001b[49m\u001b[43m*\u001b[49m\u001b[43margs\u001b[49m\u001b[43m,\u001b[49m\u001b[43m \u001b[49m\u001b[43m*\u001b[49m\u001b[43m*\u001b[49m\u001b[43mkwargs\u001b[49m\u001b[43m)\u001b[49m\n",
      "\u001b[31mFileNotFoundError\u001b[39m: [Errno 2] No such file or directory: 'dados_quarta.txt'"
     ]
    }
   ],
   "source": [
    "with open('dados_quarta.txt', 'r') as arq:\n",
    "    texto = ''\n",
    "    for linha in arq.readlines():\n",
    "        print(linha)\n",
    "        texto += linha"
   ]
  },
  {
   "cell_type": "code",
   "execution_count": 2,
   "id": "50f2ef92-75bf-4107-af31-444663c4abd2",
   "metadata": {},
   "outputs": [
    {
     "ename": "NameError",
     "evalue": "name 'texto' is not defined",
     "output_type": "error",
     "traceback": [
      "\u001b[31m---------------------------------------------------------------------------\u001b[39m",
      "\u001b[31mNameError\u001b[39m                                 Traceback (most recent call last)",
      "\u001b[36mCell\u001b[39m\u001b[36m \u001b[39m\u001b[32mIn[2]\u001b[39m\u001b[32m, line 1\u001b[39m\n\u001b[32m----> \u001b[39m\u001b[32m1\u001b[39m dados = [\u001b[38;5;28mint\u001b[39m(num) \u001b[38;5;28;01mfor\u001b[39;00m num \u001b[38;5;129;01min\u001b[39;00m \u001b[43mtexto\u001b[49m.replace(\u001b[33m'\u001b[39m\u001b[38;5;130;01m\\n\u001b[39;00m\u001b[33m'\u001b[39m, \u001b[33m'\u001b[39m\u001b[33m,\u001b[39m\u001b[33m'\u001b[39m)[:-\u001b[32m1\u001b[39m].split(\u001b[33m'\u001b[39m\u001b[33m,\u001b[39m\u001b[33m'\u001b[39m)]\n",
      "\u001b[31mNameError\u001b[39m: name 'texto' is not defined"
     ]
    }
   ],
   "source": [
    "dados = [int(num) for num in texto.replace('\\n', ',')[:-1].split(',')]"
   ]
  },
  {
   "cell_type": "code",
   "execution_count": 1,
   "id": "b4ebb741-e899-46e3-9775-41541563b8aa",
   "metadata": {
    "scrolled": true
   },
   "outputs": [
    {
     "ename": "NameError",
     "evalue": "name 'dados' is not defined",
     "output_type": "error",
     "traceback": [
      "\u001b[31m---------------------------------------------------------------------------\u001b[39m",
      "\u001b[31mNameError\u001b[39m                                 Traceback (most recent call last)",
      "\u001b[36mCell\u001b[39m\u001b[36m \u001b[39m\u001b[32mIn[1]\u001b[39m\u001b[32m, line 1\u001b[39m\n\u001b[32m----> \u001b[39m\u001b[32m1\u001b[39m \u001b[43mdados\u001b[49m\n",
      "\u001b[31mNameError\u001b[39m: name 'dados' is not defined"
     ]
    }
   ],
   "source": [
    "dados"
   ]
  },
  {
   "cell_type": "code",
   "execution_count": null,
   "id": "4836a573-47f1-422b-b044-ab0c53b82c09",
   "metadata": {
    "scrolled": true
   },
   "outputs": [],
   "source": [
    "list\n",
    "tuple\n",
    "dict\n",
    "set\n"
   ]
  },
  {
   "cell_type": "code",
   "execution_count": 8,
   "id": "2074e755-e95e-4538-b961-2414a2e99cbe",
   "metadata": {
    "scrolled": true
   },
   "outputs": [],
   "source": [
    "# Lista '\n",
    "# Criando lista\n",
    "lista_vazia = list()\n",
    "lista_vazia2 = []\n",
    "clubes = ['Santos', 'Cruzeiro', 'Flamengo', 'Ferroviária', 'Vasco']"
   ]
  },
  {
   "cell_type": "code",
   "execution_count": 16,
   "id": "5d0c16c8-c816-4f8c-bcb3-2c3af1c76cd6",
   "metadata": {
    "scrolled": true
   },
   "outputs": [
    {
     "data": {
      "text/plain": [
       "('Santos', 'Ferroviária', 'Vasco', 'Cruzeiro')"
      ]
     },
     "execution_count": 16,
     "metadata": {},
     "output_type": "execute_result"
    }
   ],
   "source": [
    "# Acessando elemento\n",
    "clubes[0], clubes[3], clubes[-1], clubes[-4]"
   ]
  },
  {
   "cell_type": "code",
   "execution_count": 18,
   "id": "eb71099c-3412-4174-bec0-29eac7acf8cc",
   "metadata": {
    "scrolled": true
   },
   "outputs": [
    {
     "ename": "IndexError",
     "evalue": "list index out of range",
     "output_type": "error",
     "traceback": [
      "\u001b[1;31m---------------------------------------------------------------------------\u001b[0m",
      "\u001b[1;31mIndexError\u001b[0m                                Traceback (most recent call last)",
      "Cell \u001b[1;32mIn[18], line 1\u001b[0m\n\u001b[1;32m----> 1\u001b[0m clubes[\u001b[38;5;241m9\u001b[39m]\n",
      "\u001b[1;31mIndexError\u001b[0m: list index out of range"
     ]
    }
   ],
   "source": [
    "clubes[9]"
   ]
  },
  {
   "cell_type": "code",
   "execution_count": 24,
   "id": "e4286ade-4673-4ff8-876f-abb520d81ab5",
   "metadata": {
    "scrolled": true
   },
   "outputs": [
    {
     "name": "stdout",
     "output_type": "stream",
     "text": [
      "Santos\n",
      "Cruzeiro\n",
      "Flamengo\n",
      "Ferroviária\n",
      "Vasco\n"
     ]
    }
   ],
   "source": [
    "# Varrendo uma lista\n",
    "# for i (range): índice\n",
    "#for i in range(5): # hard-coded\n",
    "\n",
    "for i in range(len(clubes)):\n",
    "    print(clubes[i])"
   ]
  },
  {
   "cell_type": "code",
   "execution_count": 26,
   "id": "70942b6e-461f-43fd-baa3-a8a9fdf05e85",
   "metadata": {
    "scrolled": true
   },
   "outputs": [
    {
     "name": "stdout",
     "output_type": "stream",
     "text": [
      "Santos\n",
      "Cruzeiro\n",
      "Flamengo\n",
      "Ferroviária\n",
      "Vasco\n"
     ]
    }
   ],
   "source": [
    "# for each\n",
    "for clube in clubes:\n",
    "    print(clube)"
   ]
  },
  {
   "cell_type": "code",
   "execution_count": 28,
   "id": "051a61bd-b3ac-48ae-ba91-16a5b58476a5",
   "metadata": {
    "scrolled": true
   },
   "outputs": [
    {
     "data": {
      "text/plain": [
       "['Santos', 'Cruzeiro', 'Flamengo', 'Ferroviária', 'Vasco', 'Brasiliense']"
      ]
     },
     "execution_count": 28,
     "metadata": {},
     "output_type": "execute_result"
    }
   ],
   "source": [
    "# Métodos/funções de lista --> adiciona / remove elementos\n",
    "clubes.append('Brasiliense')\n",
    "clubes"
   ]
  },
  {
   "cell_type": "code",
   "execution_count": 30,
   "id": "cbd3f3b6-947b-48d4-b537-1ed46f3babf8",
   "metadata": {
    "scrolled": true
   },
   "outputs": [
    {
     "data": {
      "text/plain": [
       "['Santos', 'Cruzeiro', 'Flamengo', 'Ferroviária', 'Brasiliense']"
      ]
     },
     "execution_count": 30,
     "metadata": {},
     "output_type": "execute_result"
    }
   ],
   "source": [
    "clubes.remove('Vasco')\n",
    "clubes"
   ]
  },
  {
   "cell_type": "code",
   "execution_count": 50,
   "id": "66b73f0b-0458-4f9d-827e-d540a55a28ff",
   "metadata": {
    "scrolled": true
   },
   "outputs": [],
   "source": [
    "# Criando dicionários\n",
    "dicio_vazio = dict()\n",
    "dicio_vazio2 = {}\n",
    "info = {'chave':'valor', 'chave2':'valor2'}"
   ]
  },
  {
   "cell_type": "code",
   "execution_count": 36,
   "id": "2f476f93-09d8-4f8d-8e26-4d5f3742710c",
   "metadata": {
    "scrolled": true
   },
   "outputs": [
    {
     "data": {
      "text/plain": [
       "('c', 'a')"
      ]
     },
     "execution_count": 36,
     "metadata": {},
     "output_type": "execute_result"
    }
   ],
   "source": [
    "temp = 'casa'\n",
    "temp[0], temp[-1]"
   ]
  },
  {
   "cell_type": "code",
   "execution_count": 42,
   "id": "57101860-2678-41cf-8e75-ef22c712f4f0",
   "metadata": {
    "scrolled": true
   },
   "outputs": [
    {
     "data": {
      "text/plain": [
       "['Santos', 'Cruzeiro', 'Flamengo', 'Ferroviária', 'Gama']"
      ]
     },
     "execution_count": 42,
     "metadata": {},
     "output_type": "execute_result"
    }
   ],
   "source": [
    "clubes[-1] = 'Gama'\n",
    "\n",
    "clubes"
   ]
  },
  {
   "cell_type": "code",
   "execution_count": 46,
   "id": "7acc4647-28f9-4091-bba9-6e796a02c85e",
   "metadata": {
    "scrolled": true
   },
   "outputs": [
    {
     "ename": "TypeError",
     "evalue": "'str' object does not support item assignment",
     "output_type": "error",
     "traceback": [
      "\u001b[1;31m---------------------------------------------------------------------------\u001b[0m",
      "\u001b[1;31mTypeError\u001b[0m                                 Traceback (most recent call last)",
      "Cell \u001b[1;32mIn[46], line 1\u001b[0m\n\u001b[1;32m----> 1\u001b[0m temp[\u001b[38;5;241m0\u001b[39m] \u001b[38;5;241m=\u001b[39m \u001b[38;5;124m'\u001b[39m\u001b[38;5;124mC\u001b[39m\u001b[38;5;124m'\u001b[39m\n",
      "\u001b[1;31mTypeError\u001b[0m: 'str' object does not support item assignment"
     ]
    }
   ],
   "source": [
    "temp[0] = 'C'"
   ]
  },
  {
   "cell_type": "code",
   "execution_count": 56,
   "id": "3313c56f-cecf-4d9b-988e-acc675687452",
   "metadata": {
    "scrolled": true
   },
   "outputs": [
    {
     "data": {
      "text/plain": [
       "('valor', 'valor2')"
      ]
     },
     "execution_count": 56,
     "metadata": {},
     "output_type": "execute_result"
    }
   ],
   "source": [
    "# Acessando elemento de um dicionário\n",
    "info['chave'], info['chave2']"
   ]
  },
  {
   "cell_type": "code",
   "execution_count": 60,
   "id": "270344bc-243b-4234-8915-a8cb1d47fa21",
   "metadata": {
    "scrolled": true
   },
   "outputs": [
    {
     "name": "stdout",
     "output_type": "stream",
     "text": [
      "valor\n",
      "valor2\n"
     ]
    }
   ],
   "source": [
    "# Varrendo um dicionário\n",
    "for chave in info:\n",
    "    print(info[chave])"
   ]
  },
  {
   "cell_type": "code",
   "execution_count": 64,
   "id": "ec4c5176-5072-444e-b465-bf4ec3a24cf5",
   "metadata": {
    "scrolled": true
   },
   "outputs": [
    {
     "name": "stdout",
     "output_type": "stream",
     "text": [
      "chave : valor\n",
      "chave2 : valor2\n"
     ]
    }
   ],
   "source": [
    "for chave, valor in info.items():\n",
    "    print(chave, ':', valor)"
   ]
  },
  {
   "cell_type": "code",
   "execution_count": null,
   "id": "34fe9e87-8387-4c41-bd33-57a755d9f16f",
   "metadata": {
    "scrolled": true
   },
   "outputs": [],
   "source": [
    "for valor in info.values():\n",
    "    print(valor)"
   ]
  },
  {
   "cell_type": "code",
   "execution_count": 71,
   "id": "22deb782-29b5-4a2a-9846-fc43b7bd67b3",
   "metadata": {
    "scrolled": true
   },
   "outputs": [],
   "source": [
    "# Métodos de dicionário: adicionar / remover elementos\n",
    "info['chave3'] = 'valor3'"
   ]
  },
  {
   "cell_type": "code",
   "execution_count": 73,
   "id": "99dbc8d6-ee99-4c06-9b24-03270ce72948",
   "metadata": {
    "scrolled": true
   },
   "outputs": [
    {
     "data": {
      "text/plain": [
       "{'chave': 'valor', 'chave2': 'valor2', 'chave3': 'valor3'}"
      ]
     },
     "execution_count": 73,
     "metadata": {},
     "output_type": "execute_result"
    }
   ],
   "source": [
    "info"
   ]
  },
  {
   "cell_type": "code",
   "execution_count": 77,
   "id": "0d6a4a0d-c6d6-49b0-a37a-d6480e798450",
   "metadata": {
    "scrolled": true
   },
   "outputs": [],
   "source": [
    "del info['chave2']"
   ]
  },
  {
   "cell_type": "code",
   "execution_count": 79,
   "id": "c2f17d03-6f6f-4fc6-bdd0-903e80fffdbc",
   "metadata": {
    "scrolled": true
   },
   "outputs": [
    {
     "data": {
      "text/plain": [
       "{'chave': 'valor', 'chave3': 'valor3'}"
      ]
     },
     "execution_count": 79,
     "metadata": {},
     "output_type": "execute_result"
    }
   ],
   "source": [
    "info"
   ]
  },
  {
   "cell_type": "code",
   "execution_count": 83,
   "id": "7c443f12-0f90-47a9-a52f-fd4ec218b2c5",
   "metadata": {
    "scrolled": true
   },
   "outputs": [],
   "source": []
  },
  {
   "cell_type": "code",
   "execution_count": 94,
   "id": "cdb1c067-e927-4129-b35e-c07b6895d9be",
   "metadata": {
    "scrolled": true
   },
   "outputs": [
    {
     "name": "stdout",
     "output_type": "stream",
     "text": [
      " 50 --  58\n",
      " 59 --  67\n",
      " 68 --  76\n",
      " 77 --  85\n",
      " 86 --  94\n",
      " 95 -- 103\n",
      "104 -- 112\n"
     ]
    }
   ],
   "source": [
    "num = 50\n",
    "amplitude = 8\n",
    "for i in range(7):\n",
    "    print(f'{num:3d} -- {num + amplitude:3d}')\n",
    "    num += amplitude + 1"
   ]
  },
  {
   "attachments": {
    "d184a52d-b531-4f85-afc5-5f0693e22560.png": {
     "image/png": "[encoded data removed]"
    }
   },
   "cell_type": "markdown",
   "id": "cf40c20f-2721-4abb-87c2-b5d9ffa1478d",
   "metadata": {
    "scrolled": true
   },
   "source": [
    "![image.png](attachment:d184a52d-b531-4f85-afc5-5f0693e22560.png)"
   ]
  },
  {
   "cell_type": "code",
   "execution_count": 124,
   "id": "1e798fd0-0743-481f-ad35-f936b43f1e43",
   "metadata": {
    "scrolled": true
   },
   "outputs": [],
   "source": [
    "num = 50\n",
    "amplitude = 8\n",
    "freq = {}\n",
    "for _ in range(7):\n",
    "    chave = f'{num:3d} -- {num + amplitude:3d}'\n",
    "    freq[chave] = 0\n",
    "    num += amplitude + 1"
   ]
  },
  {
   "cell_type": "code",
   "execution_count": 100,
   "id": "812b2719-3c3d-4bbc-8906-21f77c40cee5",
   "metadata": {
    "scrolled": true
   },
   "outputs": [
    {
     "data": {
      "text/plain": [
       "dict_keys([' 50 --  58', ' 59 --  67', ' 68 --  76', ' 77 --  85', ' 86 --  94', ' 95 -- 103', '104 -- 112'])"
      ]
     },
     "execution_count": 100,
     "metadata": {},
     "output_type": "execute_result"
    }
   ],
   "source": [
    "freq.keys()"
   ]
  },
  {
   "cell_type": "code",
   "execution_count": 104,
   "id": "9984ed6e-e66c-48a1-8247-3669785f3421",
   "metadata": {
    "scrolled": true
   },
   "outputs": [
    {
     "data": {
      "text/plain": [
       "{' 50 --  58': 0,\n",
       " ' 59 --  67': 0,\n",
       " ' 68 --  76': 0,\n",
       " ' 77 --  85': 0,\n",
       " ' 86 --  94': 0,\n",
       " ' 95 -- 103': 0,\n",
       " '104 -- 112': 0}"
      ]
     },
     "execution_count": 104,
     "metadata": {},
     "output_type": "execute_result"
    }
   ],
   "source": [
    "freq"
   ]
  },
  {
   "cell_type": "code",
   "execution_count": 114,
   "id": "05aee91c-dc57-41ae-8e6e-ee1513df9494",
   "metadata": {
    "scrolled": true
   },
   "outputs": [
    {
     "data": {
      "text/plain": [
       "{' 50 --  58': 0,\n",
       " ' 59 --  67': 0,\n",
       " ' 68 --  76': 0,\n",
       " ' 77 --  85': 0,\n",
       " ' 86 --  94': 0,\n",
       " ' 95 -- 103': 0,\n",
       " '104 -- 112': 0}"
      ]
     },
     "execution_count": 114,
     "metadata": {},
     "output_type": "execute_result"
    }
   ],
   "source": [
    "freq"
   ]
  },
  {
   "cell_type": "code",
   "execution_count": 161,
   "id": "1bb35d5a-c5c2-46f4-80db-890b1d8a7d5c",
   "metadata": {
    "scrolled": true
   },
   "outputs": [
    {
     "data": {
      "text/plain": [
       "{' 50 --  58': 2,\n",
       " ' 59 --  67': 7,\n",
       " ' 68 --  76': 17,\n",
       " ' 77 --  85': 10,\n",
       " ' 86 --  94': 4,\n",
       " ' 95 -- 103': 6,\n",
       " '104 -- 112': 4}"
      ]
     },
     "execution_count": 161,
     "metadata": {},
     "output_type": "execute_result"
    }
   ],
   "source": [
    "for elem in dados:\n",
    "    if elem < 59:\n",
    "        freq[' 50 --  58'] += 1\n",
    "    elif elem < 68:\n",
    "        freq[' 59 --  67'] += 1\n",
    "    elif elem < 77 :\n",
    "        freq[' 68 --  76'] += 1\n",
    "    elif elem < 86:\n",
    "        freq[' 77 --  85'] += 1\n",
    "    elif elem < 95 :\n",
    "        freq[' 86 --  94'] += 1\n",
    "    elif elem < 104 :\n",
    "        freq[' 95 -- 103'] += 1\n",
    "    else:\n",
    "        freq['104 -- 112'] += 1\n",
    "\n",
    "freq"
   ]
  },
  {
   "cell_type": "code",
   "execution_count": 186,
   "id": "0179a593-d6f5-42b2-ab54-e23e7872e82d",
   "metadata": {
    "scrolled": true
   },
   "outputs": [
    {
     "data": {
      "text/plain": [
       "' 68 --  76'"
      ]
     },
     "execution_count": 186,
     "metadata": {},
     "output_type": "execute_result"
    }
   ],
   "source": [
    "elem = 70\n",
    "n = (elem - 50) // 9\n",
    "num = 50 + 9 * n\n",
    "amplitude = 8\n",
    "f'{num:3d} -- {num + amplitude:3d}'"
   ]
  },
  {
   "cell_type": "code",
   "execution_count": 188,
   "id": "6aab6a9b-0244-44fb-b758-03b15590d713",
   "metadata": {
    "scrolled": true
   },
   "outputs": [],
   "source": [
    "num = 50\n",
    "amplitude = 8\n",
    "freq = {}\n",
    "for _ in range(7):\n",
    "    chave = f'{num:3d} -- {num + amplitude:3d}'\n",
    "    freq[chave] = 0\n",
    "    num += amplitude + 1"
   ]
  },
  {
   "cell_type": "code",
   "execution_count": 190,
   "id": "bb4a22d8-2419-4989-8a88-556a27417761",
   "metadata": {
    "scrolled": true
   },
   "outputs": [
    {
     "data": {
      "text/plain": [
       "{' 50 --  58': 0,\n",
       " ' 59 --  67': 0,\n",
       " ' 68 --  76': 0,\n",
       " ' 77 --  85': 0,\n",
       " ' 86 --  94': 0,\n",
       " ' 95 -- 103': 0,\n",
       " '104 -- 112': 0}"
      ]
     },
     "execution_count": 190,
     "metadata": {},
     "output_type": "execute_result"
    }
   ],
   "source": [
    "freq"
   ]
  },
  {
   "cell_type": "code",
   "execution_count": 197,
   "id": "1f85e57d-b754-4ae3-91a4-b24042aa33f6",
   "metadata": {
    "scrolled": true
   },
   "outputs": [],
   "source": [
    "amplitude = 8\n",
    "for elem in dados:\n",
    "    num = 50 + 9 * n = (elem - 50) // 9\n",
    "    chave = f'{num:3d} -- {num + amplitude:3d}'\n",
    "    freq[chave] += 1"
   ]
  },
  {
   "cell_type": "code",
   "execution_count": 199,
   "id": "17496339-0d51-4002-9ac6-7e8ae3f4171c",
   "metadata": {
    "scrolled": true
   },
   "outputs": [
    {
     "data": {
      "text/plain": [
       "{' 50 --  58': 2,\n",
       " ' 59 --  67': 7,\n",
       " ' 68 --  76': 17,\n",
       " ' 77 --  85': 10,\n",
       " ' 86 --  94': 4,\n",
       " ' 95 -- 103': 6,\n",
       " '104 -- 112': 4}"
      ]
     },
     "execution_count": 199,
     "metadata": {},
     "output_type": "execute_result"
    }
   ],
   "source": [
    "freq"
   ]
  },
  {
   "cell_type": "code",
   "execution_count": null,
   "id": "f42ad342-967a-495a-bcf7-f1f35c143ef9",
   "metadata": {},
   "outputs": [],
   "source": []
  }
 ],
 "metadata": {
  "kernelspec": {
   "display_name": "Python 3",
   "language": "python",
   "name": "python3"
  },
  "language_info": {
   "codemirror_mode": {
    "name": "ipython",
    "version": 3
   },
   "file_extension": ".py",
   "mimetype": "text/x-python",
   "name": "python",
   "nbconvert_exporter": "python",
   "pygments_lexer": "ipython3",
   "version": "3.11.9"
  }
 },
 "nbformat": 4,
 "nbformat_minor": 5
}
