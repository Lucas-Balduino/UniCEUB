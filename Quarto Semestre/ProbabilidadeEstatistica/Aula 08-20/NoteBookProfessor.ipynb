{
 "cells": [
  {
   "cell_type": "markdown",
   "id": "067fed4b-f0d9-4cfb-89a4-afd74c505049",
   "metadata": {},
   "source": [
    "<div style=\"background-color: purple; padding: 18px;\">\n",
    "    <h1> Probabilidade e Estatística | Ceub\n",
    "</div>"
   ]
  },
  {
   "cell_type": "markdown",
   "id": "89008d22-43c5-4396-af35-885c8b27f612",
   "metadata": {},
   "source": [
    "<div style=\"background-color: lightblue; padding: 10px;\">\n",
    "    <h2> Tópicos da aula\n",
    "</div>\n",
    "\n",
    "- Médias\n",
    "  - Aritmética simples\n",
    "  - Aritmética ponderada\n",
    "  - Harmônica\n",
    "  - Geométrica"
   ]
  },
  {
   "cell_type": "code",
   "execution_count": 7,
   "id": "2154b8fc-60aa-4069-9dca-5565c9112fec",
   "metadata": {},
   "outputs": [],
   "source": [
    "import numpy as np\n"
   ]
  },
  {
   "cell_type": "code",
   "execution_count": 9,
   "id": "0257fb63-f294-4379-a5b9-10db213186fc",
   "metadata": {},
   "outputs": [
    {
     "name": "stdout",
     "output_type": "stream",
     "text": [
      "[(1, 0.0), (2, 0.2), (4, 0.4), (7, 0.6), (19, 0.8), (24, 1.0)]\n",
      "0.00  1.00 X  1.00\n",
      "0.10  1.50 X  1.50\n",
      "0.20  2.00 X  2.00\n",
      "0.30  3.00 X  3.00\n",
      "0.40  4.00 X  4.00\n",
      "0.50  5.50 X  5.50\n",
      "0.60  7.00 X  7.00\n",
      "0.70 13.00 X 13.00\n",
      "0.80 19.00 X 19.00\n",
      "0.90 21.50 X 21.50\n",
      "1.00 24.00 X 24.00\n"
     ]
    }
   ],
   "source": [
    "#Cálculo, a mão, do quantile\n",
    "def posicaoF(dados):\n",
    "    posicao = []\n",
    "    for i in range(len(dados)):\n",
    "        posicao.append((dados[i],i/(len(dados)-1)))    \n",
    "    return posicao \n",
    "\n",
    "def percentis(posicao, valor):\n",
    "    for y, x in posicao:\n",
    "        if x >= valor:\n",
    "            y1 = y\n",
    "            x1 = x\n",
    "            break\n",
    "        yo = y\n",
    "        xo = x\n",
    "        \n",
    "    if valor == 0:\n",
    "        return posicao[0][0]\n",
    "    elif valor == 1:\n",
    "        return posicao[len(posicao)-1][0]\n",
    "    else:\n",
    "        return ((y1 - yo)/(x1 - xo)) * (valor - xo) + yo\n",
    "    \n",
    "\n",
    "dados = sorted([1, 2, 4, 7, 19, 24])\n",
    "posicao = posicaoF(dados)\n",
    "print(posicao)\n",
    "\n",
    "for porcent in range(11):\n",
    "    porcent = porcent/10\n",
    "    print(f'{porcent:.2f} {percentis(posicao, porcent):5.2f} X {np.quantile(dados, porcent):5.2f}')"
   ]
  },
  {
   "cell_type": "code",
   "execution_count": 90,
   "id": "71c2fb5b-2fc0-4b68-aaa6-88a755545665",
   "metadata": {},
   "outputs": [],
   "source": [
    "def media_simples(dados):\n",
    "    return sum(dados) / len(dados)\n",
    "\n",
    "def media_ponderada(dados, pesos):\n",
    "    return sum([p * x for p, x in zip(pesos, dados)]) / sum(pesos)\n",
    "\n",
    "def media_harmonica(dados):\n",
    "    return len(dados) / sum([1 / x for x in dados])\n",
    "\n",
    "def media_geometrica(dados):\n",
    "    from functools import reduce\n",
    "    return (abs(reduce(lambda x, y: x * y, dados))) ** (1 / len(dados))"
   ]
  },
  {
   "cell_type": "code",
   "execution_count": 98,
   "id": "d14abae8-39ac-4b92-aa1b-23703832829b",
   "metadata": {},
   "outputs": [
    {
     "name": "stdout",
     "output_type": "stream",
     "text": [
      "Só vale valores numéricos\n"
     ]
    }
   ],
   "source": [
    "dados = [-2, 's']\n",
    "try:\n",
    "    media_harmonica(dados)\n",
    "except ZeroDivisionError:\n",
    "    print('Divisão por zero')\n",
    "except TypeError:\n",
    "    print('Só vale valores numéricos')"
   ]
  },
  {
   "cell_type": "code",
   "execution_count": null,
   "id": "db6a53a2-5940-4663-b26b-cfc5c65d43a9",
   "metadata": {},
   "outputs": [
    {
     "data": {
      "text/plain": [
       "4.0"
      ]
     },
     "execution_count": 88,
     "metadata": {},
     "output_type": "execute_result"
    }
   ],
   "source": [
    "dados = [1, 2, 4, 8, 16]\n",
    "from functools import reduce\n",
    "\n",
    "(abs(reduce(lambda x, y: x * y, dados))) ** (1 / len(dados))"
   ]
  },
  {
   "cell_type": "code",
   "execution_count": 70,
   "id": "c0850a7a-441d-4372-b149-32d959ecf212",
   "metadata": {},
   "outputs": [
    {
     "data": {
      "text/plain": [
       "(9, 9)"
      ]
     },
     "execution_count": 70,
     "metadata": {},
     "output_type": "execute_result"
    }
   ],
   "source": [
    "# funções anônimas\n",
    "\n",
    "def pot(x, y):\n",
    "    return x ** y\n",
    "\n",
    "pot(3, 2), (lambda x, y: x ** y)(3, 2)"
   ]
  },
  {
   "cell_type": "code",
   "execution_count": null,
   "id": "f4b5f44c-5513-4dcf-855a-768a8a4cba48",
   "metadata": {},
   "outputs": [
    {
     "data": {
      "text/plain": [
       "(['Santos', 'Vasco', 'Flamengo', 'Corinthians'],\n",
       " ['Santos', 'Vasco', 'Flamengo', 'Corinthians'])"
      ]
     },
     "execution_count": 53,
     "metadata": {},
     "output_type": "execute_result"
    }
   ],
   "source": [
    "# List comprehension\n",
    "times = ['santos', 'vasco', 'flamengo', 'corinthians']\n",
    "nova = []\n",
    "for time in times:\n",
    "    nova.append(time.title())\n",
    "nova\n",
    "\n",
    "[time.title() for time in times], nova"
   ]
  },
  {
   "cell_type": "code",
   "execution_count": 43,
   "id": "ce5cc863-cfc5-45dc-ba26-35526606aae2",
   "metadata": {},
   "outputs": [
    {
     "data": {
      "text/plain": [
       "'Casa Da Mãe Joana'"
      ]
     },
     "execution_count": 43,
     "metadata": {},
     "output_type": "execute_result"
    }
   ],
   "source": [
    "'casa da mãe joana'.title()"
   ]
  },
  {
   "cell_type": "code",
   "execution_count": null,
   "id": "f3b69123-a0c6-4ee9-8a05-98f15113459b",
   "metadata": {},
   "outputs": [
    {
     "data": {
      "text/plain": [
       "(88.88888888888889, 88.88888888888889)"
      ]
     },
     "execution_count": 33,
     "metadata": {},
     "output_type": "execute_result"
    }
   ],
   "source": [
    "# Média harmônica\n",
    "dados = [80, 100]\n",
    "soma = 0\n",
    "n = len(dados)\n",
    "for i in range(n):\n",
    "    soma += 1 / dados[i]\n",
    "\n",
    "media = n / soma\n",
    "media, len(dados) / sum([1 / x for x in dados])"
   ]
  },
  {
   "cell_type": "code",
   "execution_count": null,
   "id": "a4a7cedd-2e61-4d7f-b14e-a82e9e13fe42",
   "metadata": {},
   "outputs": [
    {
     "data": {
      "text/plain": [
       "(8.8, 8.8)"
      ]
     },
     "execution_count": 25,
     "metadata": {},
     "output_type": "execute_result"
    }
   ],
   "source": [
    "# Média aritmética ponderada\n",
    "dados = [8, 10]\n",
    "pesos = [0.6, 0.4] \n",
    "soma_dados = 0\n",
    "soma_pesos = 0\n",
    "n = len(dados)\n",
    "for i in range(n):\n",
    "    soma_dados += pesos[i] * dados[i]\n",
    "    soma_pesos += pesos[i]\n",
    "\n",
    "media = soma_dados / soma_pesos\n",
    "media, sum([p * x for p, x in zip(pesos, dados)]) / sum(pesos)"
   ]
  },
  {
   "cell_type": "code",
   "execution_count": null,
   "id": "0144999d-6d77-423f-bfa5-f5c7bf147065",
   "metadata": {},
   "outputs": [
    {
     "data": {
      "text/plain": [
       "(5.25, 5.25)"
      ]
     },
     "execution_count": 15,
     "metadata": {},
     "output_type": "execute_result"
    }
   ],
   "source": [
    "# Média aritmética simples\n",
    "dados = [1, 3, 5, 12]\n",
    "n = len(dados)\n",
    "soma = 0\n",
    "for i in range(n):\n",
    "    soma += dados[i]\n",
    "\n",
    "media = soma / n\n",
    "media, sum(dados) / len(dados)"
   ]
  }
 ],
 "metadata": {
  "kernelspec": {
   "display_name": "Python 3 (ipykernel)",
   "language": "python",
   "name": "python3"
  },
  "language_info": {
   "codemirror_mode": {
    "name": "ipython",
    "version": 3
   },
   "file_extension": ".py",
   "mimetype": "text/x-python",
   "name": "python",
   "nbconvert_exporter": "python",
   "pygments_lexer": "ipython3",
   "version": "3.12.7"
  }
 },
 "nbformat": 4,
 "nbformat_minor": 5
}
