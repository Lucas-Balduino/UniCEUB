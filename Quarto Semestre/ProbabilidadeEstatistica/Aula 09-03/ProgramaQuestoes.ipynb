{
 "cells": [
  {
   "cell_type": "code",
   "execution_count": null,
   "id": "0a787be0",
   "metadata": {
    "vscode": {
     "languageId": "plaintext"
    }
   },
   "outputs": [],
   "source": [
    "# dados -> lista de extraida de um txt e tratamento para uma lista\n",
    "def extraiDados (arquivo.txt):\n",
    "    with open(\"dados_pluviometricos.txt\", 'r') as arq:\n"
   ]
  },
  {
   "cell_type": "code",
   "execution_count": null,
   "id": "e3b9bf8c",
   "metadata": {
    "vscode": {
     "languageId": "plaintext"
    }
   },
   "outputs": [],
   "source": [
    "def frequenciaAbsoluta(dados):    \n",
    "    freqAbsoluta = {}\n",
    "    for chave in sorted(dados):\n",
    "        freqAbsoluta[chave] = dados.count(chave)\n",
    "    return freqAbsoluta"
   ]
  }
 ],
 "metadata": {
  "language_info": {
   "name": "python"
  }
 },
 "nbformat": 4,
 "nbformat_minor": 5
}
