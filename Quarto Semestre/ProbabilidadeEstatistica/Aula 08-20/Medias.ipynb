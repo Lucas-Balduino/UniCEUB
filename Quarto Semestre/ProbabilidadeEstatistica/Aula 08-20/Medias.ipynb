{
 "cells": [
  {
   "cell_type": "code",
   "execution_count": null,
   "id": "494b42b9",
   "metadata": {},
   "outputs": [],
   "source": [
    "def mediaSimples(dados):\n",
    "    sum(dados) / len(dados)\n",
    "\n",
    "def mediaPonderada(dados,pesos):\n",
    "    sum([p * x for p,x in zip(pesos,dados)]) / sum(pesos)\n",
    "\n",
    "def mediaHarmonica(dados):\n",
    "    len(dados) / sum([1 / d for d in dados])\n",
    "\n",
    "def mediaGeometrica(dados):\n",
    "    ..."
   ]
  },
  {
   "cell_type": "code",
   "execution_count": null,
   "id": "24ffe421",
   "metadata": {},
   "outputs": [
    {
     "data": {
      "text/plain": [
       "3.0"
      ]
     },
     "execution_count": 1,
     "metadata": {},
     "output_type": "execute_result"
    }
   ],
   "source": [
    "#Media aritmética simples\n",
    "\n",
    "dados = [1,3,5]\n",
    "n = len(dados)\n",
    "soma = 0\n",
    "for i in range(n):\n",
    "    soma += dados[i]\n",
    "\n",
    "media = soma / n\n",
    "media, sum(dados) / len(dados) # Explicito VS Build in Functions"
   ]
  },
  {
   "cell_type": "code",
   "execution_count": null,
   "id": "3d76eb38",
   "metadata": {},
   "outputs": [
    {
     "data": {
      "text/plain": [
       "8.8"
      ]
     },
     "execution_count": 2,
     "metadata": {},
     "output_type": "execute_result"
    }
   ],
   "source": [
    "#Media aritimética ponderada\n",
    "\n",
    "dados = [8,10]\n",
    "pesos = [0.6,0.4]\n",
    "somaDados = 0\n",
    "somaPesos = 0\n",
    "n = len(dados)\n",
    "for i in range(n):\n",
    "    somaDados += pesos[i] * dados[i]\n",
    "    somaPesos += pesos[i]\n",
    "\n",
    "media = somaDados / somaPesos\n",
    "media , sum([p * x for p,x in zip(pesos,dados)]) / sum(pesos) # Explicito VS Build in Functions"
   ]
  },
  {
   "cell_type": "code",
   "execution_count": null,
   "id": "c237185f",
   "metadata": {},
   "outputs": [
    {
     "data": {
      "text/plain": [
       "88.88888888888889"
      ]
     },
     "execution_count": 3,
     "metadata": {},
     "output_type": "execute_result"
    }
   ],
   "source": [
    "# Média Harmonica\n",
    "\n",
    "dados = [80,100]\n",
    "soma = 0\n",
    "n = len(dados)\n",
    "for i in range(n):\n",
    "    soma += 1 / dados[i]\n",
    "\n",
    "media = n / soma\n",
    "media, len(dados) / sum([1 / d for d in dados]) # Explicito VS Build in Functions"
   ]
  },
  {
   "cell_type": "code",
   "execution_count": null,
   "id": "24c1e0a4",
   "metadata": {},
   "outputs": [],
   "source": [
    "# Uso de list comprehension\n",
    "\n",
    "times = ['santos', 'vasco', 'flamengo','corinthians']\n",
    "nova = []\n",
    "for time in times: \n",
    "    nova.append(time.title())\n",
    "\n",
    "nova, [time.title() for time in times] # Sem list Comprehension, Com list Comprehension\n"
   ]
  }
 ],
 "metadata": {
  "kernelspec": {
   "display_name": "Python 3",
   "language": "python",
   "name": "python3"
  },
  "language_info": {
   "codemirror_mode": {
    "name": "ipython",
    "version": 3
   },
   "file_extension": ".py",
   "mimetype": "text/x-python",
   "name": "python",
   "nbconvert_exporter": "python",
   "pygments_lexer": "ipython3",
   "version": "3.11.9"
  }
 },
 "nbformat": 4,
 "nbformat_minor": 5
}
