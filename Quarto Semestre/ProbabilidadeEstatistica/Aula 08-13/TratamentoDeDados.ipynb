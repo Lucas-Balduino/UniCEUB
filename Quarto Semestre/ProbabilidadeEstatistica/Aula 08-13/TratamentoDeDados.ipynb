{
 "cells": [
  {
   "cell_type": "code",
   "execution_count": null,
   "id": "a9049347",
   "metadata": {},
   "outputs": [],
   "source": [
    "dados = [int(num) for num in texto.replace('\\n',',')[:-1].split(',')]"
   ]
  },
  {
   "cell_type": "code",
   "execution_count": null,
   "id": "36820d0f",
   "metadata": {},
   "outputs": [],
   "source": [
    "# Estruturas de dados\n",
    "list\n",
    "tuple\n",
    "dict\n",
    "set"
   ]
  },
  {
   "cell_type": "code",
   "execution_count": 4,
   "id": "d69d9857",
   "metadata": {},
   "outputs": [
    {
     "name": "stdout",
     "output_type": "stream",
     "text": [
      "Flamengo\n",
      "Vasco\n",
      "Fluminense\n",
      "Cruzeiro\n"
     ]
    },
    {
     "data": {
      "text/plain": [
       "['Flamengo', 'Fluminense', 'Cruzeiro', 'Ferroviária']"
      ]
     },
     "execution_count": 4,
     "metadata": {},
     "output_type": "execute_result"
    }
   ],
   "source": [
    "#Listas\n",
    "\n",
    "clubes = ['Flamengo', 'Vasco', 'Fluminense','Cruzeiro']\n",
    "\n",
    "for clube in clubes:\n",
    "    print(clube)\n",
    "\n",
    "clubes.append('Ferroviária')\n",
    "clubes\n",
    "clubes.remove('Vasco')\n",
    "clubes\n"
   ]
  },
  {
   "cell_type": "code",
   "execution_count": 7,
   "id": "949a896c",
   "metadata": {},
   "outputs": [],
   "source": [
    "#Dicionário\n",
    "\n",
    "dictVazio = dict()\n",
    "dictVazio2 = {}\n",
    "\n",
    "info = {\n",
    "    'chave':'valor',\n",
    "    'chave2':'valor2'\n",
    "}"
   ]
  },
  {
   "cell_type": "code",
   "execution_count": null,
   "id": "876ff2d3",
   "metadata": {},
   "outputs": [
    {
     "name": "stdout",
     "output_type": "stream",
     "text": [
      "valor\n",
      "valor2\n"
     ]
    }
   ],
   "source": [
    "#Varrendo Dicionario\n",
    "\n",
    "for chave in info:\n",
    "    print(info[chave]) #For each comum nao funciona direito e acessa as chaves ao inves dos valores"
   ]
  },
  {
   "cell_type": "code",
   "execution_count": null,
   "id": "f17d7daf",
   "metadata": {},
   "outputs": [],
   "source": [
    "#Adicionar/Remover elementos\n",
    "info['chave3'] = 'valor3' # Ao colocar uma chave inexistente com um valor associado\n",
    "del info['chave2']\n"
   ]
  },
  {
   "cell_type": "code",
   "execution_count": 14,
   "id": "5bb058ac",
   "metadata": {},
   "outputs": [],
   "source": [
    "num = 50\n",
    "amplitude = 8\n",
    "freq = {}\n",
    "for i in range(7):\n",
    "    chave = f'{num:3d} -- {num + amplitude:3d}'\n",
    "    freq[chave] = 0\n",
    "    num += amplitude + 1"
   ]
  },
  {
   "cell_type": "code",
   "execution_count": 15,
   "id": "01f7e603",
   "metadata": {},
   "outputs": [
    {
     "data": {
      "text/plain": [
       "dict_keys([' 50 --  58', ' 59 --  67', ' 68 --  76', ' 77 --  85', ' 86 --  94', ' 95 -- 103', '104 -- 112'])"
      ]
     },
     "execution_count": 15,
     "metadata": {},
     "output_type": "execute_result"
    }
   ],
   "source": [
    "freq.keys()"
   ]
  },
  {
   "cell_type": "code",
   "execution_count": null,
   "id": "d0a25246",
   "metadata": {},
   "outputs": [],
   "source": [
    "#Forma Manual\n",
    "\n",
    "for elem in dados:\n",
    "    if elem < 59:\n",
    "        freq[' 50 --  58'] += 1\n",
    "    elif elem < 68:\n",
    "        freq[' 59 --  67'] += 1\n",
    "    elif elem < 77:\n",
    "        freq[' 68 --  76'] += 1\n",
    "    elif elem < 86:\n",
    "        freq[' 77 --  85'] += 1\n",
    "    elif elem < 95:\n",
    "        freq[' 86 --  94'] += 1\n",
    "    elif elem < 104:\n",
    "        freq[' 95 -- 103'] += 1\n",
    "    else:\n",
    "        freq['104 -- 112'] += 1"
   ]
  },
  {
   "cell_type": "code",
   "execution_count": null,
   "id": "86f4b4f1",
   "metadata": {},
   "outputs": [],
   "source": [
    "#Forma Automática\n",
    "\n",
    "amplitude = 8\n",
    "for elem in dados:\n",
    "    num = 50 + 9 * n = (elem -50) // 9\n",
    "    chave = f'{num:3d} -- {num + amplitude:3d}'\n",
    "    freq[chave] += 1"
   ]
  }
 ],
 "metadata": {
  "kernelspec": {
   "display_name": "Python 3",
   "language": "python",
   "name": "python3"
  },
  "language_info": {
   "codemirror_mode": {
    "name": "ipython",
    "version": 3
   },
   "file_extension": ".py",
   "mimetype": "text/x-python",
   "name": "python",
   "nbconvert_exporter": "python",
   "pygments_lexer": "ipython3",
   "version": "3.11.9"
  }
 },
 "nbformat": 4,
 "nbformat_minor": 5
}
