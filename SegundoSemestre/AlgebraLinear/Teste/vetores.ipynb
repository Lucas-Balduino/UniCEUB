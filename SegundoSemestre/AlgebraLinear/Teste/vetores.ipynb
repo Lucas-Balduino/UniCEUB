{
 "cells": [
  {
   "cell_type": "code",
   "execution_count": null,
   "metadata": {},
   "outputs": [],
   "source": [
    "def vetor (A, B):\n",
    "    return [b - a for a, b in zip(A,B)]\n",
    "\n",
    "def prodEscalar(A, B):\n",
    "    return sum([a * b for a, b in zip (A, B)])\n",
    "\n",
    "def prodVetorial(A, B):\n",
    "    return [A[1] * B[2] - A[2] * B[1],\n",
    "            A[2] * B[0] - A[0] * B[2],\n",
    "            A[0] * B[1] - A[1] * B[0]]\n",
    "\n",
    "def modulo (A, expoente = 1):\n",
    "    return sum([a ** 2 for a in A]) ** (0.5 * expoente)\n",
    "\n",
    "def mostraReta(A, B):\n",
    "    v = vetor(A, B)\n",
    "    print(f'r(t) = {A} = + t{tuple(v)}')\n",
    "\n",
    "def reta(t, A, B):\n",
    "    v = vetor (A, B)\n",
    "    return [a+ t * b for a, b in zip (A,v)]\n",
    "\n",
    "def mostraPlano (A, B, C):\n",
    "    u = vetor (A, B)\n",
    "    v = vetor (C, B)\n",
    "    normal = prodVetorial(u,v)\n",
    "    k = prodEscalar (normal, A)\n",
    "    a, b, c = normal\n",
    "    sinalB = '-' if b < 0 else '+'\n",
    "    sinalC = '-' if b < 0 else '+'\n",
    "    print(f'{a}x {sinalB} {abs(b)}y {sinalC} {abs(c)}z = {k}')"
   ]
  },
  {
   "cell_type": "code",
   "execution_count": null,
   "metadata": {},
   "outputs": [],
   "source": [
    "def estaNoPlano (A, B, C, D):\n",
    "    u = vetor(A, B)\n",
    "    v = vetor(C, B)\n",
    "    normal = prodVetorial(u,v)\n",
    "    k = prodEscalar(normal,A)\n",
    "    soma = prodEscalar(normal,D)\n",
    "    return soma == k\n",
    "\n",
    "def projecao(u, v):\n",
    "    escalar = prodEscalar(u, v) / modulo(v) ** 2\n",
    "    return [a * escalar for a in v]\n",
    "\n",
    "def distanciaPontoPlano (A, B, C, D):\n",
    "    u = vetor (A, B)\n",
    "    v = vetor (C, B) \n",
    "    w = vetor (A, D)\n",
    "    normal = prodVetorial(u, v)\n",
    "    return modulo(projecao(w, normal))\n",
    "\n",
    "def somaVetor(u, v, sinal = '+'):\n",
    "    if sinal == '+':\n",
    "        return [a + b for a,b in zip(u, v)]\n",
    "    elif sinal == '-':\n",
    "        return [a - b for a,b in zip(u, v)]\n",
    "\n",
    "def pontoDeProjecao(A, B, C, D):\n",
    "    u = vetor (A, B)\n",
    "    v = vetor (C, B) \n",
    "    w = vetor (A, D)\n",
    "    normal = prodVetorial(u,v)\n",
    "    m = projecao(w, v)\n",
    "    s = somaVetor(w, m,'-')\n",
    "    return somaVetor(A, s)"
   ]
  },
  {
   "cell_type": "code",
   "execution_count": null,
   "metadata": {},
   "outputs": [],
   "source": [
    "A = (1, 1, 1)\n",
    "B = (2, -1, 3)\n",
    "C = (-2, 4, 1)\n",
    "D = ()\n",
    "E = ()"
   ]
  },
  {
   "cell_type": "code",
   "execution_count": null,
   "metadata": {},
   "outputs": [],
   "source": [
    "u = vetor(A,B)\n",
    "v = vetor(C,B)"
   ]
  },
  {
   "cell_type": "code",
   "execution_count": null,
   "metadata": {},
   "outputs": [],
   "source": [
    "vetor([0],[3])"
   ]
  }
 ],
 "metadata": {
  "language_info": {
   "name": "python"
  }
 },
 "nbformat": 4,
 "nbformat_minor": 2
}
