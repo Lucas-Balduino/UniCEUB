{
 "cells": [
  {
   "cell_type": "markdown",
   "metadata": {},
   "source": [
    "## Função de Vetores\n",
    "### Exercícios\n",
    "\n",
    "1. O vetor u tem módulo 4 e faz um ângulo de 30 com a direção i (eixo horizontal). o vetor v é dado por v = 3i - j. Calcule/Determine analiticamente e computacionalmente: <br>\n",
    "a. u em função de i e j  <br>\n",
    "b. ||v|| <br>\n",
    "c. O angulo do vetor v com a direção i <br>\n",
    "d. O versor u  <br>\n",
    "e. O versor v <br>\n",
    "f. O ângulo entre u e v <br>\n",
    "g. A projeção de u em v <br>\n",
    "h. Um vetor w, de módulo 2, ortogonal a v <br>\n"
   ]
  },
  {
   "cell_type": "code",
   "execution_count": null,
   "metadata": {},
   "outputs": [],
   "source": [
    "'''Funcao que retorna uma tupla de versores baseado no modulo de um versor\n",
    "e seu angulo do no eixo i (horizontal)'''\n",
    "\n",
    "def calcVetorEmVersores (theta, modulo):\n",
    "    return (modulo * math.cos(theta) , modulo * math.sin(theta))"
   ]
  },
  {
   "cell_type": "code",
   "execution_count": null,
   "metadata": {},
   "outputs": [],
   "source": [
    "def moduloDeVetor (vetor):\n",
    "    return (vetor[0] ** 2 + vetor[1] ** 2) ** 0.5"
   ]
  },
  {
   "cell_type": "code",
   "execution_count": null,
   "metadata": {},
   "outputs": [],
   "source": [
    "def convThetaEmGraus (theta):\n",
    "    return 180 * theta / math.pi"
   ]
  },
  {
   "cell_type": "code",
   "execution_count": null,
   "metadata": {},
   "outputs": [],
   "source": [
    "'''Utilizado para tratar os graus em radianos para serem utilizados na \n",
    "funcao sin/cos'''\n",
    "def convGrausEmTheta (theta):\n",
    "    return theta * math.pi / 180"
   ]
  },
  {
   "cell_type": "code",
   "execution_count": null,
   "metadata": {},
   "outputs": [],
   "source": [
    "def anguloVetorHorizontal (vetor):\n",
    "    return math.atan (vetor[1]/vetor[0])"
   ]
  },
  {
   "cell_type": "code",
   "execution_count": null,
   "metadata": {},
   "outputs": [],
   "source": [
    "def calcVersor (vetor):\n",
    "    modulo = moduloDeVetor(vetor)\n",
    "    return vetor[0] / modulo, vetor[1]/modulo"
   ]
  },
  {
   "cell_type": "code",
   "execution_count": null,
   "metadata": {},
   "outputs": [],
   "source": [
    "def produtoEscalar (vetorU, vetorV):\n",
    "    return sum [vetorUi * vetorVi for (vetorUi,vetorVi in zip(vetorU,vetorV))]\n",
    "    #List comprehention forma de adicionar elementos a vetores em uma linha so\n",
    "    #Zip (forma de acessar elementos de dois vetores ao mesmo tempo)"
   ]
  },
  {
   "cell_type": "code",
   "execution_count": null,
   "metadata": {},
   "outputs": [],
   "source": [
    "def anguloEntreVetores (vetorU, vetorV):\n",
    "    moduloU = moduloDeVetor(vetorU)\n",
    "    moduloV = moduloDeVetor(vetorV)\n",
    "    prodEscalar = produtoEscalar (vetorU, vetorV)\n",
    "    return math.acos(prodEscalar / moduloU * moduloV)"
   ]
  },
  {
   "cell_type": "code",
   "execution_count": null,
   "metadata": {},
   "outputs": [],
   "source": [
    "def projecaoVetores (vetorU, vetorV):\n",
    "    prodEscalar = produtoEscalar (vetorU,vetorV)\n",
    "    moduloV = moduloDeVetor(vetorV)\n",
    "    fator = prodEscalar / (moduloV) ** 2\n",
    "    return fator * vetorU[0], fator * vetorU[1]"
   ]
  },
  {
   "cell_type": "code",
   "execution_count": null,
   "metadata": {},
   "outputs": [],
   "source": []
  }
 ],
 "metadata": {
  "language_info": {
   "name": "python"
  }
 },
 "nbformat": 4,
 "nbformat_minor": 2
}
