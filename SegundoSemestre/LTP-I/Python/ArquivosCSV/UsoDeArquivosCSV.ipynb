{
 "cells": [
  {
   "cell_type": "markdown",
   "metadata": {},
   "source": [
    "### Abrindo e fechando um arquivo manualmente"
   ]
  },
  {
   "cell_type": "code",
   "execution_count": null,
   "metadata": {},
   "outputs": [],
   "source": [
    "\n",
    "file = open('exemplo.txt', 'w')  # Abrindo para escrita\n",
    "file.write('Primeira linha do arquivo.\\n')\n",
    "file.close()  # Fechando o arquivo"
   ]
  },
  {
   "cell_type": "markdown",
   "metadata": {},
   "source": [
    "---"
   ]
  },
  {
   "cell_type": "markdown",
   "metadata": {},
   "source": [
    "### Comandos da Biblioteca csv\n",
    "**r**: leitura (padrão). <br>\n",
    "**w**: escrita (substitui o conteúdo, ou cria o arquivo se não existir).<br>\n",
    "**a**: adição de conteúdo ao final do arquivo.<br>\n",
    "**b**: modo binário, geralmente usado para arquivos não-textuais.<br>\n",
    "\n"
   ]
  },
  {
   "cell_type": "markdown",
   "metadata": {},
   "source": [
    "---"
   ]
  },
  {
   "cell_type": "markdown",
   "metadata": {},
   "source": [
    "### Usando 'with' para garantir que o arquivo será fechado automaticamente"
   ]
  },
  {
   "cell_type": "code",
   "execution_count": null,
   "metadata": {},
   "outputs": [],
   "source": [
    "\n",
    "with open('exemplo.txt', 'a') as file:\n",
    "  # 'a' de append para adicionar texto\n",
    "  file.write('Segunda linha do arquivo.\\n')"
   ]
  },
  {
   "cell_type": "markdown",
   "metadata": {},
   "source": [
    "---"
   ]
  },
  {
   "cell_type": "markdown",
   "metadata": {},
   "source": [
    "### Lê o arquivo inteiro"
   ]
  },
  {
   "cell_type": "code",
   "execution_count": null,
   "metadata": {},
   "outputs": [],
   "source": [
    "\n",
    "with open('exemplo.txt', 'r') as file:\n",
    "    conteudo = file.read()\n",
    "    print(conteudo)"
   ]
  },
  {
   "cell_type": "markdown",
   "metadata": {},
   "source": [
    "---"
   ]
  },
  {
   "cell_type": "markdown",
   "metadata": {},
   "source": [
    "### Lê linha por linha"
   ]
  },
  {
   "cell_type": "code",
   "execution_count": null,
   "metadata": {},
   "outputs": [],
   "source": [
    "\n",
    "from time import sleep\n",
    "with open('exemplo.txt', 'r') as file:\n",
    "  for linha in file:\n",
    "    print(linha.strip())\n",
    "    sleep(1)\n",
    "    # strip() remove espaços em branco no início e fim da linha"
   ]
  },
  {
   "cell_type": "markdown",
   "metadata": {},
   "source": [
    "---"
   ]
  },
  {
   "cell_type": "markdown",
   "metadata": {},
   "source": [
    "### Lê linha por linha em forma de lista"
   ]
  },
  {
   "cell_type": "code",
   "execution_count": null,
   "metadata": {},
   "outputs": [],
   "source": [
    "\n",
    "with open('exemplo.txt', 'r') as file:\n",
    "    linhas = file.readlines()  # Retorna uma lista de linhas\n",
    "    print(linhas)"
   ]
  },
  {
   "cell_type": "markdown",
   "metadata": {},
   "source": [
    "---"
   ]
  },
  {
   "cell_type": "markdown",
   "metadata": {},
   "source": [
    "### Lê o arquivo inteiro"
   ]
  },
  {
   "cell_type": "code",
   "execution_count": null,
   "metadata": {},
   "outputs": [],
   "source": [
    "\n",
    "with open('entrada.txt', 'r') as file:\n",
    "    conteudo = file.read()\n",
    "    print(conteudo)"
   ]
  },
  {
   "cell_type": "markdown",
   "metadata": {},
   "source": [
    "---"
   ]
  },
  {
   "cell_type": "markdown",
   "metadata": {},
   "source": [
    "### Contando palavras em um arquivo"
   ]
  },
  {
   "cell_type": "code",
   "execution_count": null,
   "metadata": {},
   "outputs": [],
   "source": [
    "\n",
    "with open('entrada.txt', 'r') as file:\n",
    "    conteudo = file.read().lower()\n",
    "    palavras = conteudo.split()\n",
    "\n",
    "contador_palavras = {} #{'palavra': quantidade}\n",
    "for palavra in palavras:\n",
    "    if palavra in contador_palavras:\n",
    "        contador_palavras[palavra] += 1\n",
    "    else:\n",
    "        contador_palavras[palavra] = 1\n",
    "\n",
    "# Escrevendo o resultado em um arquivo\n",
    "with open('contagem_palavras.txt', 'w') as file:\n",
    "    for palavra, contagem in contador_palavras.items():\n",
    "        file.write(f'{palavra}: {contagem}\\n')"
   ]
  },
  {
   "cell_type": "markdown",
   "metadata": {},
   "source": [
    "---"
   ]
  },
  {
   "cell_type": "markdown",
   "metadata": {},
   "source": [
    "### Trabalhando com arquivos csv"
   ]
  },
  {
   "cell_type": "code",
   "execution_count": null,
   "metadata": {},
   "outputs": [],
   "source": [
    "\n",
    "import csv #comma separated values\n",
    "\n",
    "dados = [\n",
    "    ['Nome', 'Idade', 'Cidade'],\n",
    "    ['Ana', '22', 'São Paulo'],\n",
    "    ['João', '35', 'Rio de Janeiro']\n",
    "]\n",
    "\n",
    "with open('saida.csv', 'w', newline='') as file:\n",
    "    escritor = csv.writer(file)\n",
    "    escritor.writerows(dados)"
   ]
  },
  {
   "cell_type": "markdown",
   "metadata": {},
   "source": [
    "---"
   ]
  }
 ],
 "metadata": {
  "language_info": {
   "name": "python"
  }
 },
 "nbformat": 4,
 "nbformat_minor": 2
}
