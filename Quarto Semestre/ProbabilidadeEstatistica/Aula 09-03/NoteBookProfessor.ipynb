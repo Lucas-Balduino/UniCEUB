{
 "cells": [
  {
   "cell_type": "code",
   "execution_count": 9,
   "id": "0dda67f1-ccdf-4111-91b5-6f3790d01009",
   "metadata": {},
   "outputs": [
    {
     "name": "stdout",
     "output_type": "stream",
     "text": [
      "144\t152\t159\t160\t160\t151\t157\t146\t154\t145\n",
      " <class 'str'>\n",
      "141\t150\t142\t146\t142\t141\t141\t150\t143\t158\n",
      " <class 'str'>\n"
     ]
    }
   ],
   "source": [
    "with open(\"dados_pluviometricos.txt\", 'r') as arq:\n",
    "    dados = ''\n",
    "    for linha in arq.readlines():\n",
    "        print(linha, type(linha))\n",
    "        dados += linha"
   ]
  },
  {
   "cell_type": "code",
   "execution_count": 24,
   "id": "1eb96df0-611a-47ad-b8bc-685abfe9830f",
   "metadata": {},
   "outputs": [
    {
     "data": {
      "text/plain": [
       "[144,\n",
       " 152,\n",
       " 159,\n",
       " 160,\n",
       " 160,\n",
       " 151,\n",
       " 157,\n",
       " 146,\n",
       " 154,\n",
       " 145,\n",
       " 141,\n",
       " 150,\n",
       " 142,\n",
       " 146,\n",
       " 142,\n",
       " 141,\n",
       " 141,\n",
       " 150,\n",
       " 143,\n",
       " 158]"
      ]
     },
     "execution_count": 24,
     "metadata": {},
     "output_type": "execute_result"
    }
   ],
   "source": [
    "[int(elem) for elem in dados[:-1].replace('\\n', '\\t').split('\\t')]"
   ]
  },
  {
   "cell_type": "code",
   "execution_count": 32,
   "id": "641ed3fa-8396-4c4d-915d-858c7270e102",
   "metadata": {},
   "outputs": [],
   "source": [
    "def extrai_dados(arquivo_txt):\n",
    "    with open(\"dados_pluviometricos.txt\", 'r') as arq:\n",
    "        dados = ''\n",
    "        for linha in arq.readlines():\n",
    "            dados += linha\n",
    "    return [int(elem) for elem in dados[:-1].replace('\\n', '\\t').split('\\t')]"
   ]
  },
  {
   "cell_type": "code",
   "execution_count": 209,
   "id": "ea345eea-9d3c-4a51-aaba-33aa9b4bb2e1",
   "metadata": {},
   "outputs": [],
   "source": [
    "arquivo_txt = 'dados_pluviometricos.txt'\n",
    "\n",
    "dados = extrai_dados(arquivo_txt)"
   ]
  },
  {
   "cell_type": "code",
   "execution_count": null,
   "id": "b1040792-edf8-4004-b38e-b5d93a7dc0d5",
   "metadata": {},
   "outputs": [],
   "source": [
    "def frequencia_absoluta(dados):\n",
    "    freq_abs = {}\n",
    "    for chave in sorted(dados):\n",
    "        freq_abs[chave] = dados.count(chave)\n",
    "    return freq_abs\n",
    "\n",
    "def frequencia_relativa(dados):\n",
    "    freq_rel = {}\n",
    "    freq_abs = frequencia_absoluta(dados)\n",
    "    soma = sum(freq_abs.values()) \n",
    "    for chave, valor in freq_abs.items():\n",
    "        freq_rel[chave] = 100 * valor / soma\n",
    "    return freq_rel\n",
    "\n",
    "def frequencia_relativa_acumulada(dados):\n",
    "    freq_rel_acum = {}\n",
    "    freq_rel = frequencia_relativa(dados)\n",
    "    soma = 0\n",
    "    for chave, valor in freq_rel.items():\n",
    "        soma += valor\n",
    "        freq_rel_acum[chave] = soma\n",
    "    return freq_rel_acum\n",
    "\n",
    "def moda(dados):\n",
    "    freq_abs = frequencia_absoluta(dados)\n",
    "    return sorted(freq_abs.items(), key=lambda x: x[1], reverse=True)[0][0]\n",
    "\n",
    "def mediana(dados):\n",
    "    tam = len(dados)\n",
    "    dados.sort()\n",
    "    if tam % 2 == 0:\n",
    "        indx = tam // 2\n",
    "        return (dados[indx - 1] + dados[indx]) / 2\n",
    "    else:\n",
    "        return dados[tam // 2]\n",
    "\n",
    "def media(dados):\n",
    "    return sum(dados) / len(dados)\n",
    "\n",
    "def mediaAgrupados(dados,freq):\n",
    "    return sum([xi * fi for xi, fi in zip(dados, freq)]) / sum(freq)\n",
    "\n",
    "def variancia(dados):\n",
    "    xMedio = media(dados)\n",
    "    return sum([(xi - xMedio) ** 2 for xi in dados]) / len(dados)\n",
    "\n",
    "def varianciaAgrupados(dados, freq):\n",
    "    xMedio = media(dados)\n",
    "    return sum([fi * (xi - xMedio) ** 2 for xi,fi in zip(dados,freq)]) / len(dados)\n",
    "\n",
    "def desvio_padrao(dados, freq = []):\n",
    "    var = variancia(dados)\n",
    "    if freq:\n",
    "        return varianciaAgrupados(dados,freq) ** (1/2)\n",
    "    return var ** (1/2)"
   ]
  },
  {
   "cell_type": "code",
   "execution_count": 125,
   "id": "e91540d4-f30d-49d6-a31e-a655770ec658",
   "metadata": {},
   "outputs": [],
   "source": [
    "freq_abs = frequencia_absoluta(dados)"
   ]
  },
  {
   "cell_type": "code",
   "execution_count": 115,
   "id": "edf5dadc-7826-4649-9b45-c9e138ea1fc9",
   "metadata": {},
   "outputs": [],
   "source": [
    "freq_rel = frequencia_relativa(dados);"
   ]
  },
  {
   "cell_type": "code",
   "execution_count": 127,
   "id": "39b03273-0490-454e-9d8b-551434078f9b",
   "metadata": {},
   "outputs": [],
   "source": [
    "frequencia_relativa_acumulada(dados);\n"
   ]
  },
  {
   "cell_type": "code",
   "execution_count": 166,
   "id": "d460f5e8-2486-4173-8e93-8195f28e29de",
   "metadata": {},
   "outputs": [
    {
     "data": {
      "text/plain": [
       "141"
      ]
     },
     "execution_count": 166,
     "metadata": {},
     "output_type": "execute_result"
    }
   ],
   "source": [
    "moda(dados)"
   ]
  },
  {
   "cell_type": "code",
   "execution_count": 162,
   "id": "ace1faaa-aef1-4e24-a33d-99091b712027",
   "metadata": {},
   "outputs": [
    {
     "data": {
      "text/plain": [
       "157"
      ]
     },
     "execution_count": 162,
     "metadata": {},
     "output_type": "execute_result"
    }
   ],
   "source": [
    "sorted(freq_abs.items(), key=lambda x: x[1], reverse=True)[0][0]"
   ]
  },
  {
   "cell_type": "code",
   "execution_count": null,
   "id": "778e909a-35fe-4ce2-9a2f-05d7e70f33ac",
   "metadata": {},
   "outputs": [],
   "source": [
    "dados.remove(147)"
   ]
  },
  {
   "cell_type": "code",
   "execution_count": 264,
   "id": "9f4868ec-79ad-478f-a4ba-e1dc3eb930e3",
   "metadata": {},
   "outputs": [
    {
     "name": "stdout",
     "output_type": "stream",
     "text": [
      "   |   |    \n",
      "-----------\n",
      "   |   |    \n",
      "-----------\n",
      "   |   |    \n",
      "\n",
      " Jogador o: \n"
     ]
    },
    {
     "name": "stdout",
     "output_type": "stream",
     "text": [
      "Posição:  3\n"
     ]
    },
    {
     "name": "stdout",
     "output_type": "stream",
     "text": [
      "   |   | o  \n",
      "-----------\n",
      "   |   |    \n",
      "-----------\n",
      "   |   |    \n",
      "\n",
      " Jogador x: \n"
     ]
    },
    {
     "name": "stdout",
     "output_type": "stream",
     "text": [
      "Posição:  3\n"
     ]
    },
    {
     "name": "stdout",
     "output_type": "stream",
     "text": [
      "Posição ocupada! Escolha outra posição!\n"
     ]
    },
    {
     "name": "stdout",
     "output_type": "stream",
     "text": [
      "Posição:  3\n"
     ]
    },
    {
     "name": "stdout",
     "output_type": "stream",
     "text": [
      "Posição ocupada! Escolha outra posição!\n"
     ]
    },
    {
     "name": "stdout",
     "output_type": "stream",
     "text": [
      "Posição:  3\n"
     ]
    },
    {
     "name": "stdout",
     "output_type": "stream",
     "text": [
      "Posição ocupada! Escolha outra posição!\n"
     ]
    },
    {
     "name": "stdout",
     "output_type": "stream",
     "text": [
      "Posição:  1\n"
     ]
    },
    {
     "name": "stdout",
     "output_type": "stream",
     "text": [
      " x |   | o  \n",
      "-----------\n",
      "   |   |    \n",
      "-----------\n",
      "   |   |    \n",
      "\n"
     ]
    }
   ],
   "source": [
    "def tabuleiro(dados):\n",
    "    linha = f' {dados[0]} | {dados[1]} | {dados[2]}  \\n'\n",
    "    linha += '-----------\\n'\n",
    "    linha += f' {dados[3]} | {dados[4]} | {dados[5]}  \\n'\n",
    "    linha += '-----------\\n'\n",
    "    linha += f' {dados[6]} | {dados[7]} | {dados[8]}  \\n'\n",
    "    print(linha)\n",
    "\n",
    "dados = [' ', ' ', ' ',\n",
    "        ' ', ' ',' ',\n",
    "        ' ', ' ', ' ']\n",
    "tabuleiro(dados)\n",
    "for i in range(2):\n",
    "    jogador = ['o', 'x']\n",
    "    player = jogador[i % 2]\n",
    "    print(f' Jogador {player}: ')\n",
    "    posicao = int(input('Posição: ')) - 1\n",
    "    while dados[posicao] != ' ':\n",
    "        print('Posição ocupada! Escolha outra posição!')\n",
    "        posicao = int(input('Posição: ')) - 1\n",
    "    dados[posicao] = player\n",
    "    tabuleiro(dados)"
   ]
  },
  {
   "cell_type": "code",
   "execution_count": 248,
   "id": "b49f565f-ccdf-427f-b9b4-685deed428eb",
   "metadata": {},
   "outputs": [
    {
     "name": "stdout",
     "output_type": "stream",
     "text": [
      " x |   |    \n",
      "-----------\n",
      "   |   |    \n",
      "-----------\n",
      "   |   |    \n",
      "\n"
     ]
    }
   ],
   "source": [
    "dados = [' ', ' ', ' ',\n",
    "        ' ', ' ',' ',\n",
    "        ' ', ' ', ' ']\n",
    "tabuleiro(dados)\n"
   ]
  },
  {
   "cell_type": "code",
   "execution_count": 187,
   "id": "7747b459-04b7-4b0d-bf39-21057ccbde09",
   "metadata": {},
   "outputs": [
    {
     "data": {
      "text/plain": [
       "[141,\n",
       " 141,\n",
       " 141,\n",
       " 142,\n",
       " 142,\n",
       " 143,\n",
       " 144,\n",
       " 145,\n",
       " 146,\n",
       " 146,\n",
       " 147,\n",
       " 150,\n",
       " 150,\n",
       " 151,\n",
       " 152,\n",
       " 154,\n",
       " 157,\n",
       " 158,\n",
       " 159,\n",
       " 160,\n",
       " 160]"
      ]
     },
     "execution_count": 187,
     "metadata": {},
     "output_type": "execute_result"
    }
   ],
   "source": [
    "dados"
   ]
  }
 ],
 "metadata": {
  "kernelspec": {
   "display_name": "Python 3 (ipykernel)",
   "language": "python",
   "name": "python3"
  },
  "language_info": {
   "codemirror_mode": {
    "name": "ipython",
    "version": 3
   },
   "file_extension": ".py",
   "mimetype": "text/x-python",
   "name": "python",
   "nbconvert_exporter": "python",
   "pygments_lexer": "ipython3",
   "version": "3.12.7"
  }
 },
 "nbformat": 4,
 "nbformat_minor": 5
}
